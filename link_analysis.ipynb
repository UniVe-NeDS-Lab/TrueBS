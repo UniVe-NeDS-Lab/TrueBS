{
 "cells": [
  {
   "cell_type": "code",
   "execution_count": 26,
   "metadata": {},
   "outputs": [],
   "source": [
    "import glob\n",
    "import numpy as np\n",
    "import pandas as pd \n",
    "from collections import defaultdict\n",
    "from math import isclose\n",
    "from matplotlib import pyplot as plt"
   ]
  },
  {
   "cell_type": "code",
   "execution_count": 25,
   "metadata": {},
   "outputs": [],
   "source": [
    "runs = glob.glob('/home/gabrihacker/TNSM2022/results_rebuttal/napoli/*/*/*/*/*/*/')\n",
    "for r in runs[:1]:\n",
    "    params = r.split('/')\n",
    "    sa, rf, k, ratio, dens = params[7:12]\n",
    "    bp = '/'.join(params[:8])\n",
    "    \n",
    "    invmat = np.load(f'{bp}/inverse_translation_matrix.npy')\n",
    "    viewsheds = np.load(f'{r}/viewsheds.npy')\n",
    "    nodes = pd.read_csv(f'{r}/index.csv', \n",
    "                        sep=' ', \n",
    "                        header=0, \n",
    "                        names=['x', 'y', 'z', 'x_3003', 'y_3003', 'b', 'p_i']\n",
    "                       ).set_index('p_i')\n",
    "    links = np.argwhere(viewsheds) #get ones from the viewshed\n",
    "    \n",
    "    #create a dict with a list of bs that sees a point\n",
    "    adjdict = defaultdict(list)\n",
    "    for l in links:\n",
    "        ant = l[1]\n",
    "        p = l[0]\n",
    "        if ant in nodes.index:\n",
    "            adjdict[p].append(ant)\n",
    "    \n",
    "    max_angles = []\n",
    "    mean_angles = []\n",
    "    min_distances = []\n",
    "    for p in adjdict.keys():\n",
    "        bs_loc = invmat[p]\n",
    "        dists = []\n",
    "        angles = []\n",
    "        vectors = []\n",
    "        for ant in adjdict[p]:\n",
    "            n = nodes.loc[ant]\n",
    "            loc = np.array([n.x, n.y])\n",
    "            vector = loc-bs_loc\n",
    "            vectors.append(vector)\n",
    "            dists.append(np.abs(vector))\n",
    "            angles.append(np.degrees(np.arctan2(vector[0], vector[1])))            \n",
    "        angles.append(angles[0])  ##Trick to create a ring\n",
    "        angles = np.array(angles) #convert to numpy\n",
    "        min_distances.append(min(dists))\n",
    "        diffs = (angles[1:] - angles[:-1]) % 360  #modulo 360 to get positive  angles\n",
    "        try:\n",
    "            assert(isclose(sum(diffs),360) or isclose(sum(diffs),0))\n",
    "            max_angles.append(diffs.max())\n",
    "            mean_angles.append(diffs.mean())\n",
    "        except AssertionError:\n",
    "            pass\n",
    "            # print(diffs)\n",
    "            # print(angles)\n",
    "            # print(vectors)\n",
    "            # break          "
   ]
  },
  {
   "cell_type": "code",
   "execution_count": 36,
   "metadata": {},
   "outputs": [
    {
     "data": {
      "text/plain": [
       "183942"
      ]
     },
     "execution_count": 36,
     "metadata": {},
     "output_type": "execute_result"
    }
   ],
   "source": [
    "len(adjdict)"
   ]
  },
  {
   "cell_type": "code",
   "execution_count": 35,
   "metadata": {},
   "outputs": [
    {
     "data": {
      "text/plain": [
       "(array([  75., 5001., 7646., 5245., 4864., 7471., 6346., 7601., 9813.,\n",
       "        9054.]),\n",
       " array([149.19855402, 170.27775255, 191.35695107, 212.4361496 ,\n",
       "        233.51534812, 254.59454665, 275.67374517, 296.75294369,\n",
       "        317.83214222, 338.91134074, 359.99053927]),\n",
       " <a list of 10 Patch objects>)"
      ]
     },
     "execution_count": 35,
     "metadata": {},
     "output_type": "execute_result"
    },
    {
     "data": {
      "image/png": "[encoded data removed]",
      "text/plain": [
       "<Figure size 432x288 with 1 Axes>"
      ]
     },
     "metadata": {
      "needs_background": "light"
     },
     "output_type": "display_data"
    }
   ],
   "source": [
    "ma_data = np.ma.masked_equal(max_angles,0)\n",
    "plt.hist(ma_data)"
   ]
  },
  {
   "cell_type": "code",
   "execution_count": null,
   "metadata": {},
   "outputs": [],
   "source": [
    "max_di"
   ]
  }
 ],
 "metadata": {
  "interpreter": {
   "hash": "a25d43ff33ba27186e63dc22997be5a75245a3a7ca4470cb580047b93e665ce8"
  },
  "kernelspec": {
   "display_name": "Python 3.7.3 ('truenets_gpu')",
   "language": "python",
   "name": "python3"
  },
  "language_info": {
   "codemirror_mode": {
    "name": "ipython",
    "version": 3
   },
   "file_extension": ".py",
   "mimetype": "text/x-python",
   "name": "python",
   "nbconvert_exporter": "python",
   "pygments_lexer": "ipython3",
   "version": "3.7.3"
  },
  "orig_nbformat": 4
 },
 "nbformat": 4,
 "nbformat_minor": 2
}
